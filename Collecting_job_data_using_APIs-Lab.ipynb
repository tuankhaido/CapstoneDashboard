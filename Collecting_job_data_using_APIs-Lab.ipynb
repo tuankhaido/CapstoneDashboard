{
 "cells": [
  {
   "cell_type": "markdown",
   "metadata": {},
   "source": [
    "# **Collecting Job Data Using APIs**\n"
   ]
  },
  {
   "cell_type": "markdown",
   "metadata": {},
   "source": [
    "#### Instructions\n"
   ]
  },
  {
   "cell_type": "markdown",
   "metadata": {},
   "source": [
    "## Warm-Up Exercise\n"
   ]
  },
  {
   "cell_type": "code",
   "execution_count": 4,
   "metadata": {
    "tags": []
   },
   "outputs": [],
   "source": [
    "import requests \n",
    "import pandas as pd"
   ]
  },
  {
   "cell_type": "code",
   "execution_count": 6,
   "metadata": {
    "tags": []
   },
   "outputs": [],
   "source": [
    "api_url = \"http://api.open-notify.org/astros.json\" # this url gives use the astronaut data"
   ]
  },
  {
   "cell_type": "code",
   "execution_count": 7,
   "metadata": {
    "tags": []
   },
   "outputs": [],
   "source": [
    "response = requests.get(api_url) # Call the API using the get method and store the\n",
    "                                # output of the API call in a variable called response."
   ]
  },
  {
   "cell_type": "code",
   "execution_count": 8,
   "metadata": {
    "tags": []
   },
   "outputs": [],
   "source": [
    "if response.ok:             # if all is well() no errors, no network timeouts)\n",
    "    data = response.json()  # store the result in json format in a variable called data\n",
    "                            # the variable data is of type dictionary."
   ]
  },
  {
   "cell_type": "code",
   "execution_count": 9,
   "metadata": {
    "tags": []
   },
   "outputs": [
    {
     "name": "stdout",
     "output_type": "stream",
     "text": [
      "{'people': [{'craft': 'ISS', 'name': 'Oleg Kononenko'}, {'craft': 'ISS', 'name': 'Nikolai Chub'}, {'craft': 'ISS', 'name': 'Tracy Caldwell Dyson'}, {'craft': 'ISS', 'name': 'Matthew Dominick'}, {'craft': 'ISS', 'name': 'Michael Barratt'}, {'craft': 'ISS', 'name': 'Jeanette Epps'}, {'craft': 'ISS', 'name': 'Alexander Grebenkin'}, {'craft': 'ISS', 'name': 'Butch Wilmore'}, {'craft': 'ISS', 'name': 'Sunita Williams'}, {'craft': 'Tiangong', 'name': 'Li Guangsu'}, {'craft': 'Tiangong', 'name': 'Li Cong'}, {'craft': 'Tiangong', 'name': 'Ye Guangfu'}], 'number': 12, 'message': 'success'}\n"
     ]
    }
   ],
   "source": [
    "print(data)   # print the data just to check the output or for debugging"
   ]
  },
  {
   "cell_type": "markdown",
   "metadata": {},
   "source": [
    "Print the number of astronauts currently on ISS.\n"
   ]
  },
  {
   "cell_type": "code",
   "execution_count": 10,
   "metadata": {
    "tags": []
   },
   "outputs": [
    {
     "name": "stdout",
     "output_type": "stream",
     "text": [
      "12\n"
     ]
    }
   ],
   "source": [
    "print(data.get('number'))"
   ]
  },
  {
   "cell_type": "markdown",
   "metadata": {},
   "source": [
    "Print the names of the astronauts currently on ISS.\n"
   ]
  },
  {
   "cell_type": "code",
   "execution_count": 7,
   "metadata": {
    "tags": []
   },
   "outputs": [
    {
     "name": "stdout",
     "output_type": "stream",
     "text": [
      "There are 12 astronauts on ISS\n",
      "And their names are :\n",
      "Oleg Kononenko\n",
      "Nikolai Chub\n",
      "Tracy Caldwell Dyson\n",
      "Matthew Dominick\n",
      "Michael Barratt\n",
      "Jeanette Epps\n",
      "Alexander Grebenkin\n",
      "Butch Wilmore\n",
      "Sunita Williams\n",
      "Li Guangsu\n",
      "Li Cong\n",
      "Ye Guangfu\n"
     ]
    }
   ],
   "source": [
    "astronauts = data.get('people')\n",
    "print(\"There are {} astronauts on ISS\".format(len(astronauts)))\n",
    "print(\"And their names are :\")\n",
    "for astronaut in astronauts:\n",
    "    print(astronaut.get('name'))"
   ]
  },
  {
   "cell_type": "markdown",
   "metadata": {},
   "source": [
    "## Lab: Collect Jobs Data using GitHub Jobs API\n"
   ]
  },
  {
   "cell_type": "markdown",
   "metadata": {},
   "source": [
    "### Objective: Determine the number of jobs currently open for various technologies  and for various locations\n"
   ]
  },
  {
   "cell_type": "markdown",
   "metadata": {},
   "source": [
    "Collect the number of job postings for the following locations using the API:\n",
    "\n",
    "* Los Angeles\n",
    "* New York\n",
    "* San Francisco\n",
    "* Washington DC\n",
    "* Seattle\n",
    "* Austin\n",
    "* Detroit\n"
   ]
  },
  {
   "cell_type": "code",
   "execution_count": 1,
   "metadata": {
    "tags": []
   },
   "outputs": [],
   "source": [
    "#Import required libraries\n",
    "import pandas as pd\n",
    "import json\n",
    "import requests"
   ]
  },
  {
   "cell_type": "markdown",
   "metadata": {},
   "source": [
    "#### Write a function to get the number of jobs for the Python technology.<br>\n",
    ">\n",
    "  \n",
    " ##### The keys in the json are \n",
    " * Job Title\n",
    " \n",
    " * Job Experience Required\n",
    " \n",
    " * Key Skills\n",
    " \n",
    " * Role Category\n",
    " \n",
    " * Location\n",
    " \n",
    " * Functional Area\n",
    " \n",
    " * Industry\n",
    " \n",
    " * Role \n",
    " \n",
    "You can also view  the json file contents  from the following <a href = \"https://cf-courses-data.s3.us.cloud-object-storage.appdomain.cloud/IBM-DA0321EN-SkillsNetwork/labs/module%201/Accessing%20Data%20Using%20APIs/jobs.json\">json</a> URL.\n",
    "\n"
   ]
  },
  {
   "cell_type": "code",
   "execution_count": 3,
   "metadata": {
    "tags": []
   },
   "outputs": [
    {
     "name": "stdout",
     "output_type": "stream",
     "text": [
      "Công nghệ: Python, Số lượng công việc: 1173\n"
     ]
    }
   ],
   "source": [
    "import requests\n",
    "\n",
    "api_url = \"http://127.0.0.1:5000/data\"\n",
    "\n",
    "def get_number_of_jobs_T(technology):\n",
    "    # Gửi yêu cầu đến API với tham số 'Key Skills'\n",
    "    payload = {\"Key Skills\": technology}\n",
    "    response = requests.get(api_url, params=payload)\n",
    "    \n",
    "    # Kiểm tra xem yêu cầu có thành công không\n",
    "    if response.status_code == 200:\n",
    "        # Chuyển đổi dữ liệu JSON thành danh sách Python\n",
    "        jobs_data = response.json()\n",
    "        \n",
    "        # Đếm số công việc\n",
    "        number_of_jobs = len(jobs_data)  # Số lượng công việc trả về\n",
    "        return technology, number_of_jobs\n",
    "    else:\n",
    "        print(f\"Lỗi: {response.status_code} - Không thể lấy dữ liệu từ API.\")\n",
    "        return technology, 0  # Trả về 0 nếu không thể lấy dữ liệu\n",
    "\n",
    "# Ví dụ gọi hàm\n",
    "technology = \"Python\"\n",
    "result = get_number_of_jobs_T(technology)\n",
    "print(f\"Công nghệ: {result[0]}, Số lượng công việc: {result[1]}\")"
   ]
  },
  {
   "cell_type": "markdown",
   "metadata": {},
   "source": [
    "Calling the function for Python and checking if it works.\n"
   ]
  },
  {
   "cell_type": "code",
   "execution_count": 4,
   "metadata": {
    "tags": []
   },
   "outputs": [
    {
     "data": {
      "text/plain": [
       "('C#', 333)"
      ]
     },
     "execution_count": 4,
     "metadata": {},
     "output_type": "execute_result"
    }
   ],
   "source": [
    "get_number_of_jobs_T(\"C#\")"
   ]
  },
  {
   "cell_type": "markdown",
   "metadata": {},
   "source": [
    "#### Write a function to find number of jobs in US for a location of your choice\n"
   ]
  },
  {
   "cell_type": "code",
   "execution_count": 5,
   "metadata": {
    "tags": []
   },
   "outputs": [],
   "source": [
    "def get_number_of_jobs_L(location):\n",
    "    payload = {\"Location\": location}\n",
    "    response = requests.get(api_url, params=payload)\n",
    "    \n",
    "    # Kiểm tra xem yêu cầu có thành công không\n",
    "    if response.status_code == 200:\n",
    "        # Chuyển đổi dữ liệu JSON thành danh sách Python\n",
    "        jobs_data = response.json()\n",
    "        \n",
    "        # Đếm số công việc\n",
    "        number_of_jobs = len(jobs_data)  # Số lượng công việc trả về\n",
    "        return location, number_of_jobs\n",
    "    else:\n",
    "        print(f\"Lỗi: {response.status_code} - Không thể lấy dữ liệu từ API.\")\n",
    "        return location, 0  # Trả về 0 nếu không thể lấy dữ liệu\n",
    "    return location,number_of_jobs"
   ]
  },
  {
   "cell_type": "markdown",
   "metadata": {},
   "source": [
    "Call the function for Los Angeles and check if it is working.\n"
   ]
  },
  {
   "cell_type": "code",
   "execution_count": 6,
   "metadata": {
    "tags": []
   },
   "outputs": [
    {
     "name": "stdout",
     "output_type": "stream",
     "text": [
      "Location: Los Angeles, Số lượng công việc: 640\n"
     ]
    }
   ],
   "source": [
    "\n",
    "location = \"Los Angeles\"\n",
    "result = get_number_of_jobs_L(location)\n",
    "print(f\"Location: {result[0]}, Số lượng công việc: {result[1]}\")"
   ]
  },
  {
   "cell_type": "markdown",
   "metadata": {},
   "source": [
    "### Store the results in an excel file\n"
   ]
  },
  {
   "cell_type": "markdown",
   "metadata": {},
   "source": [
    "Call the API for all the given technologies above and write the results in an excel spreadsheet.\n"
   ]
  },
  {
   "cell_type": "markdown",
   "metadata": {},
   "source": [
    "If you do not know how create excel file using python, double click here for **hints**.\n",
    "\n",
    "<!--\n",
    "\n",
    "from openpyxl import Workbook        # import Workbook class from module openpyxl\n",
    "wb=Workbook()                        # create a workbook object\n",
    "ws=wb.active                         # use the active worksheet\n",
    "ws.append(['Country','Continent'])   # add a row with two columns 'Country' and 'Continent'\n",
    "ws.append(['Eygpt','Africa'])        # add a row with two columns 'Egypt' and 'Africa'\n",
    "ws.append(['India','Asia'])          # add another row\n",
    "ws.append(['France','Europe'])       # add another row\n",
    "wb.save(\"countries.xlsx\")            # save the workbook into a file called countries.xlsx\n",
    "\n",
    "\n",
    "-->\n"
   ]
  },
  {
   "cell_type": "markdown",
   "metadata": {},
   "source": [
    "Create a python list of all technologies for which you need to find the number of jobs postings.\n"
   ]
  },
  {
   "cell_type": "code",
   "execution_count": 26,
   "metadata": {
    "tags": []
   },
   "outputs": [],
   "source": [
    "\n",
    "technologies = [\n",
    "    \"Python\",\n",
    "    \"Java\",\n",
    "    \"C#\",\n",
    "    \"JavaScript\",\n",
    "    \"Oracle\",\n",
    "    \"C++\",\n",
    "    \"C\",\n",
    "    \"Scala\"\n",
    "]"
   ]
  },
  {
   "cell_type": "markdown",
   "metadata": {},
   "source": [
    "Import libraries required to create excel spreadsheet\n"
   ]
  },
  {
   "cell_type": "code",
   "execution_count": 7,
   "metadata": {
    "tags": []
   },
   "outputs": [
    {
     "name": "stdout",
     "output_type": "stream",
     "text": [
      "Collecting openpyxl\n",
      "  Downloading openpyxl-3.1.5-py2.py3-none-any.whl.metadata (2.5 kB)\n",
      "Collecting et-xmlfile (from openpyxl)\n",
      "  Downloading et_xmlfile-1.1.0-py3-none-any.whl.metadata (1.8 kB)\n",
      "Downloading openpyxl-3.1.5-py2.py3-none-any.whl (250 kB)\n",
      "Downloading et_xmlfile-1.1.0-py3-none-any.whl (4.7 kB)\n",
      "Installing collected packages: et-xmlfile, openpyxl\n",
      "Successfully installed et-xmlfile-1.1.0 openpyxl-3.1.5\n"
     ]
    }
   ],
   "source": [
    "!pip install openpyxl"
   ]
  },
  {
   "cell_type": "code",
   "execution_count": 27,
   "metadata": {
    "tags": []
   },
   "outputs": [],
   "source": [
    "\n",
    "import requests\n",
    "from openpyxl import Workbook"
   ]
  },
  {
   "cell_type": "markdown",
   "metadata": {},
   "source": [
    "Create a workbook and select the active worksheet\n"
   ]
  },
  {
   "cell_type": "code",
   "execution_count": 28,
   "metadata": {
    "tags": []
   },
   "outputs": [],
   "source": [
    "\n",
    "# Create a new Excel workbook and select the active worksheet\n",
    "workbook = Workbook()\n",
    "sheet = workbook.active"
   ]
  },
  {
   "cell_type": "markdown",
   "metadata": {},
   "source": [
    "Find the number of jobs postings for each of the technology in the above list.\n",
    "Write the technology name and the number of jobs postings into the excel spreadsheet.\n"
   ]
  },
  {
   "cell_type": "code",
   "execution_count": 29,
   "metadata": {
    "tags": []
   },
   "outputs": [],
   "source": [
    "\n",
    "# Write the headers\n",
    "sheet['A1'] = 'Technology'\n",
    "sheet['B1'] = 'Number of Job Postings'\n",
    "\n",
    "# Populate the sheet with technology and job counts\n",
    "for index, tech in enumerate(technologies, start=2):\n",
    "    job_count = get_number_of_jobs_T(tech)\n",
    "    sheet[f'A{index}'] = tech\n",
    "    sheet[f'B{index}'] = job_count[1]"
   ]
  },
  {
   "cell_type": "markdown",
   "metadata": {},
   "source": [
    "Save into an excel spreadsheet named 'github-job-postings.xlsx'.\n"
   ]
  },
  {
   "cell_type": "code",
   "execution_count": 30,
   "metadata": {
    "tags": []
   },
   "outputs": [
    {
     "name": "stdout",
     "output_type": "stream",
     "text": [
      "Excel spreadsheet 'github-job-postings.xlsx' has been created successfully.\n"
     ]
    }
   ],
   "source": [
    "\n",
    "# Save the workbook to an Excel file\n",
    "workbook.save('github-job-postings.xlsx')\n",
    "\n",
    "print(\"Excel spreadsheet 'github-job-postings.xlsx' has been created successfully.\")"
   ]
  },
  {
   "cell_type": "markdown",
   "metadata": {},
   "source": [
    "Collect the number of job postings for the following Language Programs using the API:\n",
    "\n",
    "*   C\n",
    "*   C#\n",
    "*   C++\n",
    "*   Java\n",
    "*   JavaScript\n",
    "*   Python\n",
    "*   Scala\n",
    "*   Oracle\n",
    "*   SQL Server\n",
    "*   MySQL Server\n",
    "*   PostgreSQL\n",
    "*   MongoDB\n"
   ]
  },
  {
   "cell_type": "code",
   "execution_count": 8,
   "metadata": {
    "tags": []
   },
   "outputs": [
    {
     "name": "stdout",
     "output_type": "stream",
     "text": [
      "Excel spreadsheet 'language-job-postings.xlsx' has been created successfully.\n"
     ]
    }
   ],
   "source": [
    "\n",
    "import requests\n",
    "from openpyxl import Workbook\n",
    "\n",
    "# Define the list of programming languages\n",
    "languages = [\n",
    "    \"C\",\n",
    "    \"C#\",\n",
    "    \"C++\",\n",
    "    \"Java\",\n",
    "    \"JavaScript\",\n",
    "    \"Python\",\n",
    "    \"Scala\",\n",
    "    \"Oracle\",\n",
    "    \"SQL Server\",\n",
    "    \"MySQL Server\",\n",
    "    \"PostgreSQL\",\n",
    "    \"MongoDB\"\n",
    "]\n",
    "\n",
    "# Function to get the number of job postings for a given language\n",
    "def get_number_of_jobs_T(language):\n",
    "    api_url = \"http://127.0.0.1:5000/data\"\n",
    "    params = {'Key Skills': language}\n",
    "    response = requests.get(api_url, params=params)\n",
    "    \n",
    "    if response.status_code == 200:\n",
    "        jobs_data = response.json()\n",
    "        return len(jobs_data)  # Return the count of job postings\n",
    "    else:\n",
    "        print(f\"Error: {response.status_code} - Cannot retrieve data for {language}.\")\n",
    "        return 0\n",
    "\n",
    "# Create a new Excel workbook and select the active worksheet\n",
    "workbook = Workbook()\n",
    "sheet = workbook.active\n",
    "\n",
    "# Write the headers\n",
    "sheet['A1'] = 'Programming Language'\n",
    "sheet['B1'] = 'Number of Job Postings'\n",
    "\n",
    "# Populate the sheet with language and job counts\n",
    "for index, lang in enumerate(languages, start=2):\n",
    "    job_count = get_number_of_jobs_T(lang)\n",
    "    sheet[f'A{index}'] = lang\n",
    "    sheet[f'B{index}'] = job_count\n",
    "\n",
    "# Save the workbook to an Excel file\n",
    "workbook.save('language-job-postings-2.xlsx')\n",
    "\n",
    "print(\"successfully.\")"
   ]
  },
  {
   "cell_type": "markdown",
   "metadata": {},
   "source": [
    "Find the maximum number of job postings by Location"
   ]
  },
  {
   "cell_type": "code",
   "execution_count": 12,
   "metadata": {},
   "outputs": [
    {
     "name": "stdout",
     "output_type": "stream",
     "text": [
      "successfully.\n"
     ]
    }
   ],
   "source": [
    "\n",
    "import requests\n",
    "from openpyxl import Workbook\n",
    "\n",
    "# Define the list of programming languages\n",
    "L= [\"Los Angeles\", \"New York\", \"San Francisco\", \"Washington DC\", \"Seattle\"]\n",
    "\n",
    "# Function to get the number of job postings for a given language\n",
    "def get_number_of_jobs_L(L):\n",
    "    api_url = \"http://127.0.0.1:5000/data\"\n",
    "    params = {'Location': L}\n",
    "    response = requests.get(api_url, params=params)\n",
    "    \n",
    "    if response.status_code == 200:\n",
    "        jobs_data = response.json()\n",
    "        return len(jobs_data)  # Return the count of job postings\n",
    "    else:\n",
    "        print(f\"Error: {response.status_code} - Cannot retrieve data for {L}.\")\n",
    "        return 0\n",
    "\n",
    "# Create a new Excel workbook and select the active worksheet\n",
    "workbook = Workbook()\n",
    "sheet = workbook.active\n",
    "\n",
    "# Write the headers\n",
    "sheet['A1'] = 'Location'\n",
    "sheet['B1'] = 'Number of Job Postings'\n",
    "\n",
    "# Populate the sheet with language and job counts\n",
    "for index, locate in enumerate(L, start=2):\n",
    "    job_count = get_number_of_jobs_L(locate)\n",
    "    sheet[f'A{index}'] = locate\n",
    "    sheet[f'B{index}'] = job_count\n",
    "\n",
    "# Save the workbook to an Excel file\n",
    "workbook.save('location-job-postings.xlsx')\n",
    "\n",
    "print(\"successfully.\")"
   ]
  },
  {
   "cell_type": "markdown",
   "metadata": {},
   "source": [
    "<!--## Change Log\n"
   ]
  },
  {
   "cell_type": "markdown",
   "metadata": {},
   "source": [
    "<!--| Date (YYYY-MM-DD) | Version | Changed By        | Change Description                 |\n",
    "| ----------------- | ------- | ----------------- | ---------------------------------- | \n",
    "| 2022-01-19        | 0.3     | Lakshmi Holla        | Added changes in the markdown      |\n",
    "| 2021-06-25        | 0.2     | Malika            | Updated GitHub job json link       |\n",
    "| 2020-10-17        | 0.1     | Ramesh Sannareddy | Created initial version of the lab |--!>\n"
   ]
  }
 ],
 "metadata": {
  "kernelspec": {
   "display_name": "Python 3",
   "language": "python",
   "name": "python3"
  },
  "language_info": {
   "codemirror_mode": {
    "name": "ipython",
    "version": 3
   },
   "file_extension": ".py",
   "mimetype": "text/x-python",
   "name": "python",
   "nbconvert_exporter": "python",
   "pygments_lexer": "ipython3",
   "version": "3.11.2"
  },
  "prev_pub_hash": "c4d9a957e70e09027735f73df3308c8386dea312a4960cb2534d8e6ade9a49cc"
 },
 "nbformat": 4,
 "nbformat_minor": 4
}
