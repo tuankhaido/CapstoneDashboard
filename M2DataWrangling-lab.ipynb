{
  "cells": [
    {
      "cell_type": "markdown",
      "metadata": {},
      "source": [
        "# **Data Wrangling Lab**\n"
      ]
    },
    {
      "cell_type": "markdown",
      "metadata": {},
      "source": [
        "Estimated time needed: **45 to 60** minutes\n"
      ]
    },
    {
      "cell_type": "markdown",
      "metadata": {},
      "source": [
        "In this assignment you will be performing data wrangling.\n"
      ]
    },
    {
      "cell_type": "markdown",
      "metadata": {},
      "source": [
        "## Objectives\n"
      ]
    },
    {
      "cell_type": "markdown",
      "metadata": {},
      "source": [
        "In this lab you will perform the following:\n"
      ]
    },
    {
      "cell_type": "markdown",
      "metadata": {},
      "source": [
        "-   Identify duplicate values in the dataset.\n",
        "\n",
        "-   Remove duplicate values from the dataset.\n",
        "\n",
        "-   Identify missing values in the dataset.\n",
        "\n",
        "-   Impute the missing values in the dataset.\n",
        "\n",
        "-   Normalize data in the dataset.\n"
      ]
    },
    {
      "cell_type": "markdown",
      "metadata": {},
      "source": [
        "<hr>\n"
      ]
    },
    {
      "cell_type": "markdown",
      "metadata": {},
      "source": [
        "## Hands on Lab\n"
      ]
    },
    {
      "cell_type": "markdown",
      "metadata": {},
      "source": [
        "Import pandas module.\n"
      ]
    },
    {
      "cell_type": "code",
      "execution_count": 3,
      "metadata": {
        "trusted": true
      },
      "outputs": [],
      "source": [
        "import pandas as pd"
      ]
    },
    {
      "cell_type": "code",
      "execution_count": 4,
      "metadata": {
        "trusted": true
      },
      "outputs": [],
      "source": [
        "import numpy as np"
      ]
    },
    {
      "cell_type": "markdown",
      "metadata": {},
      "source": [
        "Load the dataset into a dataframe.\n"
      ]
    },
    {
      "cell_type": "markdown",
      "metadata": {},
      "source": [
        "<h2>Read Data</h2>\n",
        "<p>\n",
        "We utilize the <code>pandas.read_csv()</code> function for reading CSV files. However, in this version of the lab, which operates on JupyterLite, the dataset needs to be downloaded to the interface using the provided code below.\n",
        "</p>\n"
      ]
    },
    {
      "cell_type": "markdown",
      "metadata": {},
      "source": [
        "The functions below will download the dataset into your browser:\n"
      ]
    },
    {
      "cell_type": "code",
      "execution_count": 5,
      "metadata": {
        "trusted": true
      },
      "outputs": [],
      "source": [
        "# from pyodide.http import pyfetch\n",
        "\n",
        "# async def download(url, filename):\n",
        "#     response = await pyfetch(url)\n",
        "#     if response.status == 200:\n",
        "#         with open(filename, \"wb\") as f:\n",
        "#             f.write(await response.bytes())"
      ]
    },
    {
      "cell_type": "code",
      "execution_count": 6,
      "metadata": {
        "trusted": true
      },
      "outputs": [],
      "source": [
        "file_path = \"https://cf-courses-data.s3.us.cloud-object-storage.appdomain.cloud/IBM-DA0321EN-SkillsNetwork/LargeData/m1_survey_data.csv\""
      ]
    },
    {
      "cell_type": "markdown",
      "metadata": {},
      "source": [
        "To obtain the dataset, utilize the download() function as defined above:  \n"
      ]
    },
    {
      "cell_type": "code",
      "execution_count": 7,
      "metadata": {
        "trusted": true
      },
      "outputs": [],
      "source": [
        "# await download(file_path, \"m1_survey_data.csv\")\n",
        "# file_name=\"m1_survey_data.csv\""
      ]
    },
    {
      "cell_type": "code",
      "execution_count": 8,
      "metadata": {
        "trusted": true
      },
      "outputs": [],
      "source": [
        "import requests\n",
        "def download(url, filename):\n",
        "    # Gửi yêu cầu GET tới URL\n",
        "    response = requests.get(url)\n",
        "    if response.status_code == 200:\n",
        "        with open(filename, \"wb\") as f:\n",
        "            f.write(response.content)  \n",
        "filename = 'm1_survey_data_1.csv'\n",
        "\n",
        "download(file_path, filename)"
      ]
    },
    {
      "cell_type": "markdown",
      "metadata": {},
      "source": [
        "Utilize the Pandas method read_csv() to load the data into a dataframe.\n"
      ]
    },
    {
      "cell_type": "code",
      "execution_count": 9,
      "metadata": {
        "trusted": true
      },
      "outputs": [],
      "source": [
        "df = pd.read_csv(filename)"
      ]
    },
    {
      "cell_type": "code",
      "execution_count": 10,
      "metadata": {
        "trusted": true
      },
      "outputs": [
        {
          "data": {
            "text/plain": [
              "(11552, 85)"
            ]
          },
          "execution_count": 10,
          "metadata": {},
          "output_type": "execute_result"
        }
      ],
      "source": [
        "df.shape"
      ]
    },
    {
      "cell_type": "markdown",
      "metadata": {},
      "source": [
        "> Note: This version of the lab is working on JupyterLite, which requires the dataset to be downloaded to the interface.While working on the downloaded version of this notebook on their local machines(Jupyter Anaconda), the learners can simply **skip the steps above,** and simply use the URL directly in the `pandas.read_csv()` function. You can uncomment and run the statements in the cell below.\n"
      ]
    },
    {
      "cell_type": "code",
      "execution_count": 11,
      "metadata": {
        "trusted": true
      },
      "outputs": [],
      "source": [
        "#df = pd.read_csv(\"https://cf-courses-data.s3.us.cloud-object-storage.appdomain.cloud/IBM-DA0321EN-SkillsNetwork/LargeData/m1_survey_data.csv\")"
      ]
    },
    {
      "cell_type": "markdown",
      "metadata": {},
      "source": [
        "## Finding duplicates\n"
      ]
    },
    {
      "cell_type": "markdown",
      "metadata": {},
      "source": [
        "In this section you will identify duplicate values in the dataset.\n"
      ]
    },
    {
      "cell_type": "markdown",
      "metadata": {},
      "source": [
        " Find how many duplicate rows exist in the dataframe.\n"
      ]
    },
    {
      "cell_type": "code",
      "execution_count": 12,
      "metadata": {
        "trusted": true
      },
      "outputs": [
        {
          "data": {
            "text/plain": [
              "154"
            ]
          },
          "execution_count": 12,
          "metadata": {},
          "output_type": "execute_result"
        }
      ],
      "source": [
        "# your code goes here\n",
        "# duplicates = df.duplicated()\n",
        "# duplicates_df = df[duplicates]\n",
        "# print(duplicates_df.shape)\n",
        "num_duplicates = df.duplicated().sum()\n",
        "num_duplicates"
      ]
    },
    {
      "cell_type": "code",
      "execution_count": 13,
      "metadata": {},
      "outputs": [
        {
          "data": {
            "text/plain": [
              "154"
            ]
          },
          "execution_count": 13,
          "metadata": {},
          "output_type": "execute_result"
        }
      ],
      "source": [
        "Respondent_duplicates = df['Respondent'].duplicated().sum()\n",
        "Respondent_duplicates"
      ]
    },
    {
      "cell_type": "markdown",
      "metadata": {},
      "source": [
        "## Removing duplicates\n"
      ]
    },
    {
      "cell_type": "markdown",
      "metadata": {},
      "source": [
        "Remove the duplicate rows from the dataframe.\n"
      ]
    },
    {
      "cell_type": "code",
      "execution_count": 14,
      "metadata": {
        "trusted": true
      },
      "outputs": [],
      "source": [
        "# your code goes here\n",
        "df_no_duplicates = df.drop_duplicates()"
      ]
    },
    {
      "cell_type": "markdown",
      "metadata": {},
      "source": [
        "Verify if duplicates were actually dropped.\n"
      ]
    },
    {
      "cell_type": "code",
      "execution_count": 15,
      "metadata": {
        "trusted": true
      },
      "outputs": [
        {
          "data": {
            "text/plain": [
              "(11398, 85)"
            ]
          },
          "execution_count": 15,
          "metadata": {},
          "output_type": "execute_result"
        }
      ],
      "source": [
        "# your code goes here\n",
        "df_no_duplicates.shape"
      ]
    },
    {
      "cell_type": "code",
      "execution_count": 16,
      "metadata": {},
      "outputs": [
        {
          "data": {
            "text/plain": [
              "0"
            ]
          },
          "execution_count": 16,
          "metadata": {},
          "output_type": "execute_result"
        }
      ],
      "source": [
        "df_no_duplicates.duplicated().sum()"
      ]
    },
    {
      "cell_type": "code",
      "execution_count": 17,
      "metadata": {},
      "outputs": [
        {
          "data": {
            "text/plain": [
              "(11398,)"
            ]
          },
          "execution_count": 17,
          "metadata": {},
          "output_type": "execute_result"
        }
      ],
      "source": [
        "df_no_duplicates['Respondent'].shape"
      ]
    },
    {
      "cell_type": "markdown",
      "metadata": {},
      "source": [
        "## Finding Missing values\n"
      ]
    },
    {
      "cell_type": "markdown",
      "metadata": {},
      "source": [
        "Find the missing values for all columns.\n"
      ]
    },
    {
      "cell_type": "code",
      "execution_count": 18,
      "metadata": {
        "trusted": true
      },
      "outputs": [
        {
          "name": "stdout",
          "output_type": "stream",
          "text": [
            "   Respondent  MainBranch  Hobbyist  OpenSourcer  OpenSource  Employment  \\\n",
            "0       False       False     False        False       False       False   \n",
            "1       False       False     False        False       False       False   \n",
            "2       False       False     False        False       False       False   \n",
            "3       False       False     False        False       False       False   \n",
            "4       False       False     False        False       False       False   \n",
            "\n",
            "   Country  Student  EdLevel  UndergradMajor  ...  WelcomeChange  \\\n",
            "0    False    False    False           False  ...          False   \n",
            "1    False    False    False           False  ...          False   \n",
            "2    False    False    False           False  ...          False   \n",
            "3    False    False    False            True  ...          False   \n",
            "4    False    False    False           False  ...          False   \n",
            "\n",
            "   SONewContent    Age  Gender  Trans  Sexuality  Ethnicity  Dependents  \\\n",
            "0         False  False   False  False      False      False       False   \n",
            "1          True  False   False  False      False      False       False   \n",
            "2         False  False   False  False      False      False       False   \n",
            "3         False  False   False  False      False      False       False   \n",
            "4         False  False   False  False      False      False       False   \n",
            "\n",
            "   SurveyLength  SurveyEase  \n",
            "0         False       False  \n",
            "1         False       False  \n",
            "2         False       False  \n",
            "3         False       False  \n",
            "4         False       False  \n",
            "\n",
            "[5 rows x 85 columns]\n",
            "Respondent\n",
            "False    11398\n",
            "Name: count, dtype: int64\n",
            "\n",
            "MainBranch\n",
            "False    11398\n",
            "Name: count, dtype: int64\n",
            "\n",
            "Hobbyist\n",
            "False    11398\n",
            "Name: count, dtype: int64\n",
            "\n",
            "OpenSourcer\n",
            "False    11398\n",
            "Name: count, dtype: int64\n",
            "\n",
            "OpenSource\n",
            "False    11317\n",
            "True        81\n",
            "Name: count, dtype: int64\n",
            "\n",
            "Employment\n",
            "False    11398\n",
            "Name: count, dtype: int64\n",
            "\n",
            "Country\n",
            "False    11398\n",
            "Name: count, dtype: int64\n",
            "\n",
            "Student\n",
            "False    11347\n",
            "True        51\n",
            "Name: count, dtype: int64\n",
            "\n",
            "EdLevel\n",
            "False    11286\n",
            "True       112\n",
            "Name: count, dtype: int64\n",
            "\n",
            "UndergradMajor\n",
            "False    10661\n",
            "True       737\n",
            "Name: count, dtype: int64\n",
            "\n",
            "EduOther\n",
            "False    11234\n",
            "True       164\n",
            "Name: count, dtype: int64\n",
            "\n",
            "OrgSize\n",
            "False    11302\n",
            "True        96\n",
            "Name: count, dtype: int64\n",
            "\n",
            "DevType\n",
            "False    11333\n",
            "True        65\n",
            "Name: count, dtype: int64\n",
            "\n",
            "YearsCode\n",
            "False    11389\n",
            "True         9\n",
            "Name: count, dtype: int64\n",
            "\n",
            "Age1stCode\n",
            "False    11385\n",
            "True        13\n",
            "Name: count, dtype: int64\n",
            "\n",
            "YearsCodePro\n",
            "False    11382\n",
            "True        16\n",
            "Name: count, dtype: int64\n",
            "\n",
            "CareerSat\n",
            "False    11398\n",
            "Name: count, dtype: int64\n",
            "\n",
            "JobSat\n",
            "False    11397\n",
            "True         1\n",
            "Name: count, dtype: int64\n",
            "\n",
            "MgrIdiot\n",
            "False    10905\n",
            "True       493\n",
            "Name: count, dtype: int64\n",
            "\n",
            "MgrMoney\n",
            "False    10901\n",
            "True       497\n",
            "Name: count, dtype: int64\n",
            "\n",
            "MgrWant\n",
            "False    10905\n",
            "True       493\n",
            "Name: count, dtype: int64\n",
            "\n",
            "JobSeek\n",
            "False    11398\n",
            "Name: count, dtype: int64\n",
            "\n",
            "LastHireDate\n",
            "False    11398\n",
            "Name: count, dtype: int64\n",
            "\n",
            "LastInt\n",
            "False    10985\n",
            "True       413\n",
            "Name: count, dtype: int64\n",
            "\n",
            "FizzBuzz\n",
            "False    11361\n",
            "True        37\n",
            "Name: count, dtype: int64\n",
            "\n",
            "JobFactors\n",
            "False    11395\n",
            "True         3\n",
            "Name: count, dtype: int64\n",
            "\n",
            "ResumeUpdate\n",
            "False    11359\n",
            "True        39\n",
            "Name: count, dtype: int64\n",
            "\n",
            "CurrencySymbol\n",
            "False    11398\n",
            "Name: count, dtype: int64\n",
            "\n",
            "CurrencyDesc\n",
            "False    11398\n",
            "Name: count, dtype: int64\n",
            "\n",
            "CompTotal\n",
            "False    10589\n",
            "True       809\n",
            "Name: count, dtype: int64\n",
            "\n",
            "CompFreq\n",
            "False    11192\n",
            "True       206\n",
            "Name: count, dtype: int64\n",
            "\n",
            "ConvertedComp\n",
            "False    10582\n",
            "True       816\n",
            "Name: count, dtype: int64\n",
            "\n",
            "WorkWeekHrs\n",
            "False    11276\n",
            "True       122\n",
            "Name: count, dtype: int64\n",
            "\n",
            "WorkPlan\n",
            "False    11277\n",
            "True       121\n",
            "Name: count, dtype: int64\n",
            "\n",
            "WorkChallenge\n",
            "False    11234\n",
            "True       164\n",
            "Name: count, dtype: int64\n",
            "\n",
            "WorkRemote\n",
            "False    11390\n",
            "True         8\n",
            "Name: count, dtype: int64\n",
            "\n",
            "WorkLoc\n",
            "False    11366\n",
            "True        32\n",
            "Name: count, dtype: int64\n",
            "\n",
            "ImpSyn\n",
            "False    11393\n",
            "True         5\n",
            "Name: count, dtype: int64\n",
            "\n",
            "CodeRev\n",
            "False    11397\n",
            "True         1\n",
            "Name: count, dtype: int64\n",
            "\n",
            "CodeRevHrs\n",
            "False    8972\n",
            "True     2426\n",
            "Name: count, dtype: int64\n",
            "\n",
            "UnitTests\n",
            "False    11369\n",
            "True        29\n",
            "Name: count, dtype: int64\n",
            "\n",
            "PurchaseHow\n",
            "False    11202\n",
            "True       196\n",
            "Name: count, dtype: int64\n",
            "\n",
            "PurchaseWhat\n",
            "False    11360\n",
            "True        38\n",
            "Name: count, dtype: int64\n",
            "\n",
            "LanguageWorkedWith\n",
            "False    11387\n",
            "True        11\n",
            "Name: count, dtype: int64\n",
            "\n",
            "LanguageDesireNextYear\n",
            "False    11264\n",
            "True       134\n",
            "Name: count, dtype: int64\n",
            "\n",
            "DatabaseWorkedWith\n",
            "False    10945\n",
            "True       453\n",
            "Name: count, dtype: int64\n",
            "\n",
            "DatabaseDesireNextYear\n",
            "False    10356\n",
            "True      1042\n",
            "Name: count, dtype: int64\n",
            "\n",
            "PlatformWorkedWith\n",
            "False    10987\n",
            "True       411\n",
            "Name: count, dtype: int64\n",
            "\n",
            "PlatformDesireNextYear\n",
            "False    10854\n",
            "True       544\n",
            "Name: count, dtype: int64\n",
            "\n",
            "WebFrameWorkedWith\n",
            "False    10005\n",
            "True      1393\n",
            "Name: count, dtype: int64\n",
            "\n",
            "WebFrameDesireNextYear\n",
            "False    9781\n",
            "True     1617\n",
            "Name: count, dtype: int64\n",
            "\n",
            "MiscTechWorkedWith\n",
            "False    9216\n",
            "True     2182\n",
            "Name: count, dtype: int64\n",
            "\n",
            "MiscTechDesireNextYear\n",
            "False    9943\n",
            "True     1455\n",
            "Name: count, dtype: int64\n",
            "\n",
            "DevEnviron\n",
            "False    11369\n",
            "True        29\n",
            "Name: count, dtype: int64\n",
            "\n",
            "OpSys\n",
            "False    11364\n",
            "True        34\n",
            "Name: count, dtype: int64\n",
            "\n",
            "Containers\n",
            "False    11316\n",
            "True        82\n",
            "Name: count, dtype: int64\n",
            "\n",
            "BlockchainOrg\n",
            "False    9076\n",
            "True     2322\n",
            "Name: count, dtype: int64\n",
            "\n",
            "BlockchainIs\n",
            "False    8788\n",
            "True     2610\n",
            "Name: count, dtype: int64\n",
            "\n",
            "BetterLife\n",
            "False    11300\n",
            "True        98\n",
            "Name: count, dtype: int64\n",
            "\n",
            "ITperson\n",
            "False    11363\n",
            "True        35\n",
            "Name: count, dtype: int64\n",
            "\n",
            "OffOn\n",
            "False    11360\n",
            "True        38\n",
            "Name: count, dtype: int64\n",
            "\n",
            "SocialMedia\n",
            "False    11105\n",
            "True       293\n",
            "Name: count, dtype: int64\n",
            "\n",
            "Extraversion\n",
            "False    11378\n",
            "True        20\n",
            "Name: count, dtype: int64\n",
            "\n",
            "ScreenName\n",
            "False    10891\n",
            "True       507\n",
            "Name: count, dtype: int64\n",
            "\n",
            "SOVisit1st\n",
            "False    11073\n",
            "True       325\n",
            "Name: count, dtype: int64\n",
            "\n",
            "SOVisitFreq\n",
            "False    11393\n",
            "True         5\n",
            "Name: count, dtype: int64\n",
            "\n",
            "SOVisitTo\n",
            "False    11397\n",
            "True         1\n",
            "Name: count, dtype: int64\n",
            "\n",
            "SOFindAnswer\n",
            "False    11395\n",
            "True         3\n",
            "Name: count, dtype: int64\n",
            "\n",
            "SOTimeSaved\n",
            "False    11348\n",
            "True        50\n",
            "Name: count, dtype: int64\n",
            "\n",
            "SOHowMuchTime\n",
            "False    9481\n",
            "True     1917\n",
            "Name: count, dtype: int64\n",
            "\n",
            "SOAccount\n",
            "False    11397\n",
            "True         1\n",
            "Name: count, dtype: int64\n",
            "\n",
            "SOPartFreq\n",
            "False    10270\n",
            "True      1128\n",
            "Name: count, dtype: int64\n",
            "\n",
            "SOJobs\n",
            "False    11392\n",
            "True         6\n",
            "Name: count, dtype: int64\n",
            "\n",
            "EntTeams\n",
            "False    11393\n",
            "True         5\n",
            "Name: count, dtype: int64\n",
            "\n",
            "SOComm\n",
            "False    11398\n",
            "Name: count, dtype: int64\n",
            "\n",
            "WelcomeChange\n",
            "False    11313\n",
            "True        85\n",
            "Name: count, dtype: int64\n",
            "\n",
            "SONewContent\n",
            "False    9433\n",
            "True     1965\n",
            "Name: count, dtype: int64\n",
            "\n",
            "Age\n",
            "False    11111\n",
            "True       287\n",
            "Name: count, dtype: int64\n",
            "\n",
            "Gender\n",
            "False    11325\n",
            "True        73\n",
            "Name: count, dtype: int64\n",
            "\n",
            "Trans\n",
            "False    11275\n",
            "True       123\n",
            "Name: count, dtype: int64\n",
            "\n",
            "Sexuality\n",
            "False    10856\n",
            "True       542\n",
            "Name: count, dtype: int64\n",
            "\n",
            "Ethnicity\n",
            "False    10723\n",
            "True       675\n",
            "Name: count, dtype: int64\n",
            "\n",
            "Dependents\n",
            "False    11258\n",
            "True       140\n",
            "Name: count, dtype: int64\n",
            "\n",
            "SurveyLength\n",
            "False    11379\n",
            "True        19\n",
            "Name: count, dtype: int64\n",
            "\n",
            "SurveyEase\n",
            "False    11384\n",
            "True        14\n",
            "Name: count, dtype: int64\n",
            "\n"
          ]
        }
      ],
      "source": [
        "# your code goes here\n",
        "missing_data = df_no_duplicates.isnull()\n",
        "print(missing_data.head())\n",
        "for column in missing_data.columns.values.tolist():\n",
        "    print (missing_data[column].value_counts())\n",
        "    print(\"\") "
      ]
    },
    {
      "cell_type": "markdown",
      "metadata": {},
      "source": [
        "Find out how many rows are missing in the column 'WorkLoc'\n"
      ]
    },
    {
      "cell_type": "code",
      "execution_count": 19,
      "metadata": {
        "trusted": true
      },
      "outputs": [
        {
          "data": {
            "text/plain": [
              "32"
            ]
          },
          "execution_count": 19,
          "metadata": {},
          "output_type": "execute_result"
        }
      ],
      "source": [
        "# your code goes here\n",
        "# print(missing_data['WorkLoc'].value_counts())\n",
        "df_no_duplicates['WorkLoc'].isnull().sum()"
      ]
    },
    {
      "cell_type": "code",
      "execution_count": 20,
      "metadata": {},
      "outputs": [
        {
          "data": {
            "text/plain": [
              "0"
            ]
          },
          "execution_count": 20,
          "metadata": {},
          "output_type": "execute_result"
        }
      ],
      "source": [
        "df_no_duplicates['Country'].isnull().sum()"
      ]
    },
    {
      "cell_type": "markdown",
      "metadata": {},
      "source": [
        "## Imputing missing values\n"
      ]
    },
    {
      "cell_type": "markdown",
      "metadata": {},
      "source": [
        "Find the  value counts for the column WorkLoc.\n"
      ]
    },
    {
      "cell_type": "code",
      "execution_count": 21,
      "metadata": {
        "trusted": true
      },
      "outputs": [
        {
          "data": {
            "text/plain": [
              "WorkLoc\n",
              "Office                                            6806\n",
              "Home                                              3589\n",
              "Other place, such as a coworking space or cafe     971\n",
              "Name: count, dtype: int64"
            ]
          },
          "execution_count": 21,
          "metadata": {},
          "output_type": "execute_result"
        }
      ],
      "source": [
        "# your code goes here\n",
        "df_no_duplicates['WorkLoc'].value_counts()"
      ]
    },
    {
      "cell_type": "markdown",
      "metadata": {},
      "source": [
        "Identify the value that is most frequent (majority) in the WorkLoc column.\n"
      ]
    },
    {
      "cell_type": "code",
      "execution_count": 22,
      "metadata": {
        "trusted": true
      },
      "outputs": [
        {
          "data": {
            "text/plain": [
              "'Office'"
            ]
          },
          "execution_count": 22,
          "metadata": {},
          "output_type": "execute_result"
        }
      ],
      "source": [
        "mode_name = df_no_duplicates['WorkLoc'].mode()\n",
        "mode_name[0]"
      ]
    },
    {
      "cell_type": "code",
      "execution_count": 23,
      "metadata": {
        "trusted": true
      },
      "outputs": [
        {
          "data": {
            "text/plain": [
              "WorkLoc\n",
              "Office    6806\n",
              "Name: count, dtype: int64"
            ]
          },
          "execution_count": 23,
          "metadata": {},
          "output_type": "execute_result"
        }
      ],
      "source": [
        "#make a note of the majority value here, for future reference\n",
        "mode_name = df_no_duplicates['WorkLoc'].mode()\n",
        "count_name = df_no_duplicates['WorkLoc'].value_counts()[mode_name]  # Đếm số lần xuất hiện của mode\n",
        "mode_name[0]\n",
        "count_name"
      ]
    },
    {
      "cell_type": "code",
      "execution_count": 24,
      "metadata": {
        "trusted": true
      },
      "outputs": [
        {
          "data": {
            "text/plain": [
              "'Office'"
            ]
          },
          "execution_count": 24,
          "metadata": {},
          "output_type": "execute_result"
        }
      ],
      "source": [
        "mode_name[0]"
      ]
    },
    {
      "cell_type": "markdown",
      "metadata": {},
      "source": [
        "Impute (replace) all the empty rows in the column WorkLoc with the value that you have identified as majority.\n"
      ]
    },
    {
      "cell_type": "code",
      "execution_count": 25,
      "metadata": {
        "trusted": true
      },
      "outputs": [
        {
          "name": "stderr",
          "output_type": "stream",
          "text": [
            "C:\\Users\\ktcop\\AppData\\Local\\Temp\\ipykernel_20004\\2072769895.py:2: FutureWarning: A value is trying to be set on a copy of a DataFrame or Series through chained assignment using an inplace method.\n",
            "The behavior will change in pandas 3.0. This inplace method will never work because the intermediate object on which we are setting values always behaves as a copy.\n",
            "\n",
            "For example, when doing 'df[col].method(value, inplace=True)', try using 'df.method({col: value}, inplace=True)' or df[col] = df[col].method(value) instead, to perform the operation inplace on the original object.\n",
            "\n",
            "\n",
            "  df_no_duplicates['WorkLoc'].fillna(mode_name[0], inplace=True)\n",
            "C:\\Users\\ktcop\\AppData\\Local\\Temp\\ipykernel_20004\\2072769895.py:2: SettingWithCopyWarning: \n",
            "A value is trying to be set on a copy of a slice from a DataFrame\n",
            "\n",
            "See the caveats in the documentation: https://pandas.pydata.org/pandas-docs/stable/user_guide/indexing.html#returning-a-view-versus-a-copy\n",
            "  df_no_duplicates['WorkLoc'].fillna(mode_name[0], inplace=True)\n"
          ]
        }
      ],
      "source": [
        "# your code goes here\n",
        "df_no_duplicates['WorkLoc'].fillna(mode_name[0], inplace=True)"
      ]
    },
    {
      "cell_type": "markdown",
      "metadata": {},
      "source": [
        "After imputation there should ideally not be any empty rows in the WorkLoc column.\n"
      ]
    },
    {
      "cell_type": "code",
      "execution_count": 26,
      "metadata": {
        "trusted": true
      },
      "outputs": [
        {
          "data": {
            "text/plain": [
              "0"
            ]
          },
          "execution_count": 26,
          "metadata": {},
          "output_type": "execute_result"
        }
      ],
      "source": [
        "df_no_duplicates['WorkLoc'].isnull().sum()"
      ]
    },
    {
      "cell_type": "code",
      "execution_count": 27,
      "metadata": {
        "trusted": true
      },
      "outputs": [
        {
          "data": {
            "text/plain": [
              "WorkLoc\n",
              "Office    6838\n",
              "Name: count, dtype: int64"
            ]
          },
          "execution_count": 27,
          "metadata": {},
          "output_type": "execute_result"
        }
      ],
      "source": [
        "mode_name = df_no_duplicates['WorkLoc'].mode()\n",
        "count_name = df_no_duplicates['WorkLoc'].value_counts()[mode_name]  # Đếm số lần xuất hiện của mode\n",
        "mode_name[0]\n",
        "count_name"
      ]
    },
    {
      "cell_type": "markdown",
      "metadata": {},
      "source": [
        "## Normalizing data\n"
      ]
    },
    {
      "cell_type": "markdown",
      "metadata": {},
      "source": [
        "There are two columns in the dataset that talk about compensation.\n",
        "\n",
        "One is \"CompFreq\". This column shows how often a developer is paid (Yearly, Monthly, Weekly).\n",
        "\n",
        "The other is \"CompTotal\". This column talks about how much the developer is paid per Year, Month, or Week depending upon his/her \"CompFreq\". \n",
        "\n",
        "This makes it difficult to compare the total compensation of the developers.\n",
        "\n",
        "In this section you will create a new column called 'NormalizedAnnualCompensation' which contains the 'Annual Compensation' irrespective of the 'CompFreq'.\n",
        "\n",
        "Once this column is ready, it makes comparison of salaries easy.\n"
      ]
    },
    {
      "cell_type": "markdown",
      "metadata": {},
      "source": [
        "<hr>\n"
      ]
    },
    {
      "cell_type": "markdown",
      "metadata": {},
      "source": [
        "List out the various categories in the column 'CompFreq'\n"
      ]
    },
    {
      "cell_type": "code",
      "execution_count": 28,
      "metadata": {
        "trusted": true
      },
      "outputs": [
        {
          "data": {
            "text/plain": [
              "array(['Yearly', 'Monthly', 'Weekly', nan], dtype=object)"
            ]
          },
          "execution_count": 28,
          "metadata": {},
          "output_type": "execute_result"
        }
      ],
      "source": [
        "# your code goes here\n",
        "df['CompFreq'].unique()"
      ]
    },
    {
      "cell_type": "markdown",
      "metadata": {},
      "source": [
        "Create a new column named 'NormalizedAnnualCompensation'. Use the hint given below if needed.\n"
      ]
    },
    {
      "cell_type": "markdown",
      "metadata": {},
      "source": [
        "Double click to see the **Hint**.\n",
        "\n",
        "<!--\n",
        "\n",
        "Use the below logic to arrive at the values for the column NormalizedAnnualCompensation.\n",
        "\n",
        "If the CompFreq is Yearly then use the exising value in CompTotal\n",
        "If the CompFreq is Monthly then multiply the value in CompTotal with 12 (months in an year)\n",
        "If the CompFreq is Weekly then multiply the value in CompTotal with 52 (weeks in an year)\n",
        "\n",
        "-->\n"
      ]
    },
    {
      "cell_type": "code",
      "execution_count": 29,
      "metadata": {},
      "outputs": [
        {
          "data": {
            "text/plain": [
              "CompFreq\n",
              "Yearly     6073\n",
              "Monthly    4788\n",
              "Weekly      331\n",
              "Name: count, dtype: int64"
            ]
          },
          "execution_count": 29,
          "metadata": {},
          "output_type": "execute_result"
        }
      ],
      "source": [
        "df_no_duplicates['CompFreq'].value_counts()"
      ]
    },
    {
      "cell_type": "code",
      "execution_count": 30,
      "metadata": {
        "trusted": true
      },
      "outputs": [
        {
          "name": "stdout",
          "output_type": "stream",
          "text": [
            "DataFrame with Normalized Annual Compensation:\n",
            "       Respondent                      MainBranch Hobbyist  \\\n",
            "0               4  I am a developer by profession       No   \n",
            "1               9  I am a developer by profession      Yes   \n",
            "2              13  I am a developer by profession      Yes   \n",
            "3              16  I am a developer by profession      Yes   \n",
            "4              17  I am a developer by profession      Yes   \n",
            "...           ...                             ...      ...   \n",
            "11547       25136  I am a developer by profession      Yes   \n",
            "11548       25137  I am a developer by profession      Yes   \n",
            "11549       25138  I am a developer by profession      Yes   \n",
            "11550       25141  I am a developer by profession      Yes   \n",
            "11551       25142  I am a developer by profession      Yes   \n",
            "\n",
            "                                             OpenSourcer  \\\n",
            "0                                                  Never   \n",
            "1                             Once a month or more often   \n",
            "2      Less than once a month but more than once per ...   \n",
            "3                                                  Never   \n",
            "4      Less than once a month but more than once per ...   \n",
            "...                                                  ...   \n",
            "11547                                              Never   \n",
            "11548                                              Never   \n",
            "11549                            Less than once per year   \n",
            "11550  Less than once a month but more than once per ...   \n",
            "11551  Less than once a month but more than once per ...   \n",
            "\n",
            "                                              OpenSource          Employment  \\\n",
            "0      The quality of OSS and closed source software ...  Employed full-time   \n",
            "1      The quality of OSS and closed source software ...  Employed full-time   \n",
            "2      OSS is, on average, of HIGHER quality than pro...  Employed full-time   \n",
            "3      The quality of OSS and closed source software ...  Employed full-time   \n",
            "4      The quality of OSS and closed source software ...  Employed full-time   \n",
            "...                                                  ...                 ...   \n",
            "11547  OSS is, on average, of HIGHER quality than pro...  Employed full-time   \n",
            "11548  The quality of OSS and closed source software ...  Employed full-time   \n",
            "11549  The quality of OSS and closed source software ...  Employed full-time   \n",
            "11550  OSS is, on average, of LOWER quality than prop...  Employed full-time   \n",
            "11551  OSS is, on average, of HIGHER quality than pro...  Employed full-time   \n",
            "\n",
            "              Country Student  \\\n",
            "0       United States      No   \n",
            "1         New Zealand      No   \n",
            "2       United States      No   \n",
            "3      United Kingdom      No   \n",
            "4           Australia      No   \n",
            "...               ...     ...   \n",
            "11547   United States      No   \n",
            "11548          Poland      No   \n",
            "11549   United States      No   \n",
            "11550     Switzerland      No   \n",
            "11551  United Kingdom      No   \n",
            "\n",
            "                                                 EdLevel  \\\n",
            "0               Bachelor’s degree (BA, BS, B.Eng., etc.)   \n",
            "1      Some college/university study without earning ...   \n",
            "2            Master’s degree (MA, MS, M.Eng., MBA, etc.)   \n",
            "3            Master’s degree (MA, MS, M.Eng., MBA, etc.)   \n",
            "4               Bachelor’s degree (BA, BS, B.Eng., etc.)   \n",
            "...                                                  ...   \n",
            "11547        Master’s degree (MA, MS, M.Eng., MBA, etc.)   \n",
            "11548        Master’s degree (MA, MS, M.Eng., MBA, etc.)   \n",
            "11549        Master’s degree (MA, MS, M.Eng., MBA, etc.)   \n",
            "11550  Secondary school (e.g. American high school, G...   \n",
            "11551          Other doctoral degree (Ph.D, Ed.D., etc.)   \n",
            "\n",
            "                                          UndergradMajor  ...  \\\n",
            "0      Computer science, computer engineering, or sof...  ...   \n",
            "1      Computer science, computer engineering, or sof...  ...   \n",
            "2      Computer science, computer engineering, or sof...  ...   \n",
            "3                                                    NaN  ...   \n",
            "4      Computer science, computer engineering, or sof...  ...   \n",
            "...                                                  ...  ...   \n",
            "11547  Computer science, computer engineering, or sof...  ...   \n",
            "11548  Computer science, computer engineering, or sof...  ...   \n",
            "11549  Computer science, computer engineering, or sof...  ...   \n",
            "11550                                                NaN  ...   \n",
            "11551  A natural science (ex. biology, chemistry, phy...  ...   \n",
            "\n",
            "                                            SONewContent   Age Gender Trans  \\\n",
            "0      Tech articles written by other developers;Indu...  22.0    Man    No   \n",
            "1                                                    NaN  23.0    Man    No   \n",
            "2      Tech articles written by other developers;Cour...  28.0    Man    No   \n",
            "3      Tech articles written by other developers;Indu...  26.0    Man    No   \n",
            "4      Tech articles written by other developers;Indu...  29.0    Man    No   \n",
            "...                                                  ...   ...    ...   ...   \n",
            "11547  Tech articles written by other developers;Cour...  36.0    Man    No   \n",
            "11548  Tech articles written by other developers;Tech...  25.0    Man    No   \n",
            "11549  Tech articles written by other developers;Indu...  34.0    Man    No   \n",
            "11550                                                NaN  25.0    Man    No   \n",
            "11551  Tech articles written by other developers;Tech...  30.0    Man    No   \n",
            "\n",
            "                     Sexuality                              Ethnicity  \\\n",
            "0      Straight / Heterosexual           White or of European descent   \n",
            "1                     Bisexual           White or of European descent   \n",
            "2      Straight / Heterosexual           White or of European descent   \n",
            "3      Straight / Heterosexual           White or of European descent   \n",
            "4      Straight / Heterosexual  Hispanic or Latino/Latina;Multiracial   \n",
            "...                        ...                                    ...   \n",
            "11547  Straight / Heterosexual           White or of European descent   \n",
            "11548  Straight / Heterosexual           White or of European descent   \n",
            "11549  Straight / Heterosexual           White or of European descent   \n",
            "11550  Straight / Heterosexual           White or of European descent   \n",
            "11551                 Bisexual           White or of European descent   \n",
            "\n",
            "      Dependents           SurveyLength                  SurveyEase  \\\n",
            "0             No  Appropriate in length                        Easy   \n",
            "1             No  Appropriate in length  Neither easy nor difficult   \n",
            "2            Yes  Appropriate in length                        Easy   \n",
            "3             No  Appropriate in length  Neither easy nor difficult   \n",
            "4             No  Appropriate in length                        Easy   \n",
            "...          ...                    ...                         ...   \n",
            "11547         No  Appropriate in length                   Difficult   \n",
            "11548         No  Appropriate in length  Neither easy nor difficult   \n",
            "11549        Yes               Too long                        Easy   \n",
            "11550         No  Appropriate in length                        Easy   \n",
            "11551         No  Appropriate in length                        Easy   \n",
            "\n",
            "      NormalizedAnnualCompensation  \n",
            "0                          61000.0  \n",
            "1                         138000.0  \n",
            "2                          90000.0  \n",
            "3                         348000.0  \n",
            "4                          90000.0  \n",
            "...                            ...  \n",
            "11547                     130000.0  \n",
            "11548                      74400.0  \n",
            "11549                     105000.0  \n",
            "11550                      80000.0  \n",
            "11551                          NaN  \n",
            "\n",
            "[11398 rows x 86 columns]\n"
          ]
        },
        {
          "name": "stderr",
          "output_type": "stream",
          "text": [
            "C:\\Users\\ktcop\\AppData\\Local\\Temp\\ipykernel_20004\\4055865239.py:12: SettingWithCopyWarning: \n",
            "A value is trying to be set on a copy of a slice from a DataFrame.\n",
            "Try using .loc[row_indexer,col_indexer] = value instead\n",
            "\n",
            "See the caveats in the documentation: https://pandas.pydata.org/pandas-docs/stable/user_guide/indexing.html#returning-a-view-versus-a-copy\n",
            "  df_no_duplicates['NormalizedAnnualCompensation'] = df_no_duplicates.apply(normalize_annual_compensation, axis=1)\n"
          ]
        }
      ],
      "source": [
        "# your code goes here\n",
        "def normalize_annual_compensation(row):\n",
        "    if row['CompFreq'] == 'Yearly':\n",
        "        return row['CompTotal']\n",
        "    elif row['CompFreq'] == 'Monthly':\n",
        "        return row['CompTotal'] * 12\n",
        "    elif row['CompFreq'] == 'Weekly':\n",
        "        return row['CompTotal'] * 52\n",
        "    else:\n",
        "        return None  \n",
        "# Apply the function to create the new column\n",
        "df_no_duplicates['NormalizedAnnualCompensation'] = df_no_duplicates.apply(normalize_annual_compensation, axis=1)\n",
        "# Display the updated DataFrame\n",
        "print(\"DataFrame with Normalized Annual Compensation:\")\n",
        "print(df_no_duplicates)"
      ]
    },
    {
      "cell_type": "code",
      "execution_count": 31,
      "metadata": {
        "trusted": true
      },
      "outputs": [],
      "source": [
        "# # Tạo một dictionary để ánh xạ giá trị\n",
        "# compensation_mapping = {\n",
        "#     'Yearly': 1,\n",
        "#     'Monthly': 12,\n",
        "#     'Weekly': 52\n",
        "# }\n",
        "# df['CompFreqFactor'] = df['CompFreq'].replace(compensation_mapping)\n",
        "# df['NormalizedAnnualCompensation'] = df['CompTotal'] * df['CompFreqFactor']\n",
        "# print(df)"
      ]
    }
  ],
  "metadata": {
    "kernelspec": {
      "display_name": "Python 3",
      "language": "python",
      "name": "python3"
    },
    "language_info": {
      "codemirror_mode": {
        "name": "ipython",
        "version": 3
      },
      "file_extension": ".py",
      "mimetype": "text/x-python",
      "name": "python",
      "nbconvert_exporter": "python",
      "pygments_lexer": "ipython3",
      "version": "3.11.2"
    },
    "prev_pub_hash": "90ac80ca41fde58b95f02cc0cfc0a0f2ed3115615ffe1bdfdfc10fd5ffeef9a4"
  },
  "nbformat": 4,
  "nbformat_minor": 4
}
